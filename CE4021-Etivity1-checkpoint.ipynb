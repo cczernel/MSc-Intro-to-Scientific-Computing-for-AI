{
 "cells": [
  {
   "cell_type": "markdown",
   "metadata": {},
   "source": [
    "# Notebook E-tivity 1 CE4021"
   ]
  },
  {
   "cell_type": "markdown",
   "metadata": {},
   "source": [
    "Student name: Collin Czernel"
   ]
  },
  {
   "cell_type": "markdown",
   "metadata": {},
   "source": [
    "Student ID: 24268542"
   ]
  },
  {
   "cell_type": "markdown",
   "metadata": {},
   "source": [
    "<hr style=\"border:2px solid gray\"> </hr>"
   ]
  },
  {
   "cell_type": "markdown",
   "metadata": {},
   "source": [
    "## Imports"
   ]
  },
  {
   "cell_type": "code",
   "execution_count": 1,
   "metadata": {},
   "outputs": [],
   "source": [
    "#None"
   ]
  },
  {
   "cell_type": "markdown",
   "metadata": {},
   "source": [
    "If you believe required imports are missing, please contact your moderator."
   ]
  },
  {
   "cell_type": "markdown",
   "metadata": {},
   "source": [
    "<hr style=\"border:2px solid gray\"> </hr>"
   ]
  },
  {
   "cell_type": "markdown",
   "metadata": {},
   "source": [
    "## Task"
   ]
  },
  {
   "cell_type": "markdown",
   "metadata": {},
   "source": [
    "You may add as many cells as you require to complete this task. Refer to the Rubric for E-tivity 1 to see how you will be assessed."
   ]
  },
  {
   "cell_type": "code",
   "execution_count": 3,
   "metadata": {},
   "outputs": [
    {
     "name": "stdout",
     "output_type": "stream",
     "text": [
      "Please input the coefficients, powers, and constant (optional) for a univariable polynomial.\n",
      "First put in the coefficients, exponents. Then type done, and add the constant (if there is one).\n"
     ]
    },
    {
     "name": "stdin",
     "output_type": "stream",
     "text": [
      "Enter the coefficient (type done if done):  6\n",
      "Enter the exponent:  3\n",
      "Enter the coefficient (type done if done):  4\n",
      "Enter the exponent:  2\n",
      "Enter the coefficient (type done if done):  8\n",
      "Enter the exponent:  1\n",
      "Enter the coefficient (type done if done):  done\n",
      "Type the constant, type 0 if there isn't one:  6\n"
     ]
    },
    {
     "name": "stdout",
     "output_type": "stream",
     "text": [
      "[[18, 2], [8, 1], [8, 0]]\n",
      "The derivative terms are: 18x**2 8x**1 8x**0 \n"
     ]
    }
   ],
   "source": [
    "# Updating to add user input, make it more dynamic than my previous code. This lets user input any polynomial of any degree\n",
    "# with any terms and it will work, e.g. 5x^2 + 5x + 5 and 2x^1000 will work. \n",
    "\n",
    "# I changed it from using a 1D list with estimates on exponents based on position to user-inputted exponents stored in a 2d array.\n",
    "# So that the user can input 5x^2 + 5x and it will be [[5, 2], [5, 1]]\n",
    "\n",
    "\n",
    "derivative = [] #Defining our derivative array\n",
    "input_polynomial = [] #Defining the input polynomial array\n",
    "\n",
    "done = False #Setting the while loop to false to let the user input as many things as they want\n",
    "\n",
    "print(\"Please input the coefficients, powers, and constant (optional) for a univariable polynomial.\") # User guide\n",
    "print(\"First put in the coefficients, exponents. Then type \"'done'\", and add the constant (if there is one).\")\n",
    "\n",
    "while done == False: #Got the idea to use a while function from Peps q/a on 09/17\n",
    "    base = input(\"Enter the coefficient (type \"'done'\" if done): \")  # Add numbers until you're done, then type \"done\"\n",
    "\n",
    "    if base == 'done': # What do we do after there is nothing else to add? Do this\n",
    "        constant = input(\"Type the constant, type 0 if there isn't one: \") # Add the constant at the end so you don't have to use exponent 0\n",
    "        input_polynomial.append([int(constant), 0]) #add constant to the list\n",
    "        done = True # We're done! Stop doing the loop!\n",
    "        break # End loop\n",
    "\n",
    "    exponent = input(\"Enter the exponent: \") # Add exponent\n",
    "    input_polynomial.append([int(base), int(exponent)]) #We're going to add the coefficient and exponent to the 2d array and then re-loop\n",
    "\n",
    "def first_derivative(poly): # Function to get the first derivative\n",
    "    output_str = \"\" # Making a string for easy print storage\n",
    "    for i in range(0, len(poly)-1): # Indexing the range vs the index of the 2d array\n",
    "        coefficient = poly[i][0] # Establishing the coefficient\n",
    "        power = poly[i][1] # Establishing the power \n",
    "        derivative.append([int(coefficient*power), int(power-1)]) # Power rule and then adding to the derivative array previously defined\n",
    "    print(derivative) # Print the raw derivative output, mainly used for debug purposes. \n",
    "    for i in range(0, len(derivative)): #create print output\n",
    "        output_str += str(derivative[i][0]) + \"x**\" + str(derivative[i][1]) + \" \" # Add the terms to the output string\n",
    "    print(\"The derivative terms are: \" + output_str)\n",
    "\n",
    "first_derivative(input_polynomial)\n",
    "\n",
    "# I was going to spend more time making the print nicer and in format but decided against it. "
   ]
  },
  {
   "cell_type": "code",
   "execution_count": 11,
   "metadata": {},
   "outputs": [
    {
     "name": "stdout",
     "output_type": "stream",
     "text": [
      "[[15, 2], [14, 1], [3, 0]]\n",
      "The derivative terms are: 15x**2 14x**1 3x**0 \n"
     ]
    }
   ],
   "source": [
    "# Now lets test on the test polynomial in the module hint\n",
    "\n",
    "derivative = []\n",
    "test_poly = [[5, 3], [7, 2], [3, 1], [6, 0]]\n",
    "first_derivative(test_poly)\n",
    "\n",
    "# Which gives the correct output (I just manually put in the polynomial). "
   ]
  },
  {
   "cell_type": "code",
   "execution_count": 13,
   "metadata": {},
   "outputs": [
    {
     "name": "stdout",
     "output_type": "stream",
     "text": [
      "[[18, 2], [10, 1], [6, 0]]\n",
      "The derivative terms are: 18x**2 10x**1 6x**0 \n"
     ]
    }
   ],
   "source": [
    "# Now let's test on a few different polynomials to then calculate by hand and verify\n",
    "derivative = []\n",
    "poly1 = [[6, 3], [5, 2], [6, 1], [9, 0]]\n",
    "first_derivative(poly1)"
   ]
  },
  {
   "cell_type": "code",
   "execution_count": 15,
   "metadata": {},
   "outputs": [
    {
     "name": "stdout",
     "output_type": "stream",
     "text": [
      "[[30, 4], [12, 2], [4, 1]]\n",
      "The derivative terms are: 30x**4 12x**2 4x**1 \n"
     ]
    }
   ],
   "source": [
    "derivative = []\n",
    "poly2 = [[6, 5], [4, 3], [2, 2], [1, 0]]\n",
    "first_derivative(poly2)"
   ]
  },
  {
   "cell_type": "code",
   "execution_count": 5,
   "metadata": {},
   "outputs": [
    {
     "name": "stdout",
     "output_type": "stream",
     "text": [
      "[[3, 2], [-1, 0]]\n",
      "The derivative terms are: 3x**2 -1x**0 \n"
     ]
    }
   ],
   "source": [
    "derivative = []\n",
    "poly3 = [[1, 3], [-1, 1], [1, 0]]\n",
    "first_derivative(poly3)"
   ]
  },
  {
   "cell_type": "code",
   "execution_count": null,
   "metadata": {},
   "outputs": [],
   "source": [
    "# Which are all correct, and the manual work will be uploaded to brightpsace along with the assignment submission."
   ]
  },
  {
   "cell_type": "code",
   "execution_count": 70,
   "metadata": {},
   "outputs": [
    {
     "name": "stdout",
     "output_type": "stream",
     "text": [
      "First put in the coefficients, exponents. Then type done, and add the constant (if there is one).\n",
      "After you add the constant, you'll be asked for the value of X to be used for the evaluation\n"
     ]
    },
    {
     "name": "stdin",
     "output_type": "stream",
     "text": [
      "Enter the coefficient (type done if done):  6\n",
      "Enter the exponent:  3\n",
      "Enter the coefficient (type done if done):  5\n",
      "Enter the exponent:  2\n",
      "Enter the coefficient (type done if done):  6\n",
      "Enter the exponent:  1\n",
      "Enter the coefficient (type done if done):  done\n",
      "Type the constant, type 0 if there isn't one:  9\n",
      "What is the value of X we are evaluating for? 2\n"
     ]
    },
    {
     "name": "stdout",
     "output_type": "stream",
     "text": [
      "When the variable x = 2 the polynomial [[6, 3], [5, 2], [6, 1], [9, 0]] is evaluated to be: 89\n"
     ]
    }
   ],
   "source": [
    "# So, now we'll evaluate a polynomial given its variable. We are using the same user input code as the above with an extra step\n",
    "# to ask the user what X value to use for the evaluation.\n",
    "\n",
    "input_poly = [] #Defining the input polynomial array\n",
    "\n",
    "done = False #Setting the while loop to false to let the user input as many things as they want\n",
    "x = 0\n",
    "output = 0\n",
    "\n",
    "print(\"First put in the coefficients, exponents. Then type \"'done'\", and add the constant (if there is one).\")\n",
    "print(\"After you add the constant, you will be asked for the value of X to be used for the evaluation\")\n",
    "\n",
    "while done == False: #Got the idea to use a while function from Peps q/a on 09/17\n",
    "    base = input(\"Enter the coefficient (type \"'done'\" if done): \")  # Add numbers until you're done, then type \"done\"\n",
    "\n",
    "    if base == 'done': # What do we do after there is nothing else to add? Do this\n",
    "        constant = input(\"Type the constant, type 0 if there isn't one: \") # Add the constant at the end so you don't have to use exponent 0\n",
    "        input_poly.append([int(constant), 0]) #add constant to the list\n",
    "        x = input(\"What is the value of X we are evaluating for?\")\n",
    "        done = True # We're done! Stop doing the loop!\n",
    "        break # End loop\n",
    "\n",
    "    exponent = input(\"Enter the exponent: \") # Add exponent\n",
    "    input_poly.append([int(base), int(exponent)]) #We're going to add the coefficient and exponent to the 2d array and then re-loop\n",
    "\n",
    "def calc_poly(polynomial, x): # Two arguments, the input polynomial and the value of the variable x\n",
    "    output_list = [] \n",
    "    length = int(len(polynomial)-1) # We are not going to do anything with the constant so indexing this without the constant\n",
    "    for i in range(0, length):\n",
    "        output_list.append(int(polynomial[i][0] * int(x)**int(polynomial[i][1])))\n",
    "    output_list.append(int(polynomial[length][0])) #Adding the constant back in at the end\n",
    "    output = sum(output_list)\n",
    "    #print(output)\n",
    "    print(\"When the variable x = \" + str(x) + \" the polynomial \" + str(input_poly) + \" is evaluated to be: \" + str(output))\n",
    "\n",
    "calc_poly(input_poly, x) #call the function \n",
    "\n",
    "# So at X = 2 we get 89 for the input polynomial 6x^3 + 5x^2 + 6x + 9 which is correct. "
   ]
  },
  {
   "cell_type": "markdown",
   "metadata": {},
   "source": [
    "## Reflection"
   ]
  },
  {
   "cell_type": "markdown",
   "metadata": {},
   "source": [
    "Write your reflection in below cell. With reference to the Rubric for E-tivity 1:\n",
    "- Provide an accurate description of your code with advantages and disadvantages of design choices.\n",
    "- Compare your approach to alternative (peer) approaches.\n",
    "- Clearly describe how you have used your peers' work/input and how this has affected your own understanding / insights.\n",
    "\n",
    "If you have not used peer input, you may state this, but your submission history in Gitlab should clearly show this is the case."
   ]
  },
  {
   "cell_type": "code",
   "execution_count": 78,
   "metadata": {},
   "outputs": [],
   "source": [
    "# I think the code is OK for the purposes requested but it does have obvious problems with it. \n",
    "# On a good note, it can handle all polynomials, even the weird edge case as suggested in the module example with 2x^1000. \n",
    "# It is an improvement on my first draft since I was using a 1d list; this gives a lot more flexibility. A big advantage to this method\n",
    "# is you do not have to have the terms in any particular order, you can do 5x^2 + 6x^10 + 3 + 50x^5 and it will work correctly, whereas my previous\n",
    "# method relied 100% on inputting in a specific order. \n",
    "\n",
    "# A clear disadvantage of this is the total lack of user error handling - the inputs must specifically be integers for the code to work, but there are \n",
    "# no control methods added to the code. Additionally, if you do not type \"done\" correctly, it will add your messed up word to the list, since again\n",
    "# it has no user control methods. So, you're really counting on the person using this to be inputting the numbers and word \"done\" correctly and at the\n",
    "# correct stage. \n",
    "\n",
    "# So my original code was OK, but not robust enough. This code is also OK, and is far more flexible, but still has a major gap in control. \n",
    "# I learned from Henry's feedback and a few others regarding making a 2d list (or using a dictionary) vs my original simple 1D arrays. I also got the\n",
    "# idea to use a While loop during Pep's Q/A call on 09/17 as I didn't consider that but found it to be the perfect solution to my user input process\n",
    "# (or at least I think so). Additionally, I saw that Billy chose to use tuples instead of my 2d list method, which I found interesting and it led me to\n",
    "# learn a lot more about when and why to use 2d lists vs tuples, which I still need to explore. Additionally, I was looking at Henry's code which\n",
    "# inspired my own input methods, but modified it slightly to require less user input.\n"
   ]
  },
  {
   "cell_type": "code",
   "execution_count": null,
   "metadata": {},
   "outputs": [],
   "source": []
  }
 ],
 "metadata": {
  "kernelspec": {
   "display_name": "Python 3 (ipykernel)",
   "language": "python",
   "name": "python3"
  },
  "language_info": {
   "codemirror_mode": {
    "name": "ipython",
    "version": 3
   },
   "file_extension": ".py",
   "mimetype": "text/x-python",
   "name": "python",
   "nbconvert_exporter": "python",
   "pygments_lexer": "ipython3",
   "version": "3.12.4"
  }
 },
 "nbformat": 4,
 "nbformat_minor": 4
}
