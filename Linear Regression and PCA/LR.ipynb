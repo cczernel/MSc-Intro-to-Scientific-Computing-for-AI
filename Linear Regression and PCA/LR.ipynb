{
 "cells": [
  {
   "cell_type": "markdown",
   "metadata": {},
   "source": [
    "## Notebook E-tivity 2 CE4021 Linear Regression"
   ]
  },
  {
   "cell_type": "markdown",
   "metadata": {},
   "source": [
    "Student name: Collin Czernel"
   ]
  },
  {
   "cell_type": "markdown",
   "metadata": {},
   "source": [
    "Student ID: "
   ]
  },
  {
   "cell_type": "markdown",
   "metadata": {},
   "source": [
    "<hr style=\"border:2px solid gray\"> </hr>"
   ]
  },
  {
   "cell_type": "markdown",
   "metadata": {},
   "source": [
    "## Imports"
   ]
  },
  {
   "cell_type": "code",
   "execution_count": 5,
   "metadata": {},
   "outputs": [],
   "source": [
    "import numpy as np\n",
    "import matplotlib.pyplot as plt"
   ]
  },
  {
   "cell_type": "markdown",
   "metadata": {},
   "source": [
    "If you believe required imports are missing, please contact your moderator."
   ]
  },
  {
   "cell_type": "markdown",
   "metadata": {},
   "source": [
    "<hr style=\"border:2px solid gray\"> </hr>"
   ]
  },
  {
   "cell_type": "markdown",
   "metadata": {},
   "source": [
    "## Reference Implementation"
   ]
  },
  {
   "cell_type": "code",
   "execution_count": 8,
   "metadata": {},
   "outputs": [],
   "source": [
    "def linreg_weights(X,y):\n",
    "    # Calculation of weights using pseudo-inverse. Note that X needs to contain the bias of 1\n",
    "    return np.linalg.inv((X.T.dot(X))).dot(X.T).dot(y)"
   ]
  },
  {
   "cell_type": "code",
   "execution_count": 9,
   "metadata": {},
   "outputs": [],
   "source": [
    "def linreg_predict(w,X):\n",
    "    # Calculation of outputs given weights and data (X). Note that X needs to contain the bias of 1. \n",
    "    out=[]\n",
    "    for x in X:\n",
    "        out.append(w.T.dot(x))\n",
    "    return np.array(out)"
   ]
  },
  {
   "cell_type": "markdown",
   "metadata": {},
   "source": [
    "Load data from file (including bias of 1)"
   ]
  },
  {
   "cell_type": "code",
   "execution_count": 10,
   "metadata": {},
   "outputs": [],
   "source": [
    "data = np.loadtxt('lr_data.csv', delimiter=',')\n",
    "X = data[:,0:2]\n",
    "y= [[data[i,2]] for i in range(0,len(data[:,2]))]"
   ]
  },
  {
   "cell_type": "markdown",
   "metadata": {},
   "source": [
    "Apply data to linear regression algorithm to obtain weights"
   ]
  },
  {
   "cell_type": "code",
   "execution_count": 11,
   "metadata": {},
   "outputs": [
    {
     "data": {
      "text/plain": [
       "array([[-99.46431881],\n",
       "       [564.20389249]])"
      ]
     },
     "execution_count": 11,
     "metadata": {},
     "output_type": "execute_result"
    }
   ],
   "source": [
    "weights = linreg_weights(X,y)\n",
    "weights"
   ]
  },
  {
   "cell_type": "code",
   "execution_count": 12,
   "metadata": {},
   "outputs": [
    {
     "data": {
      "text/plain": [
       "(0.0, 3.0, -100.0, 1500.0)"
      ]
     },
     "execution_count": 12,
     "metadata": {},
     "output_type": "execute_result"
    },
    {
     "data": {
      "image/png": "[encoded data removed]",
      "text/plain": [
       "<Figure size 432x288 with 1 Axes>"
      ]
     },
     "metadata": {
      "needs_background": "light"
     },
     "output_type": "display_data"
    }
   ],
   "source": [
    "ind = np.arange(0,2.8,0.1)\n",
    "plt.plot(X[:,1],y,'.')\n",
    "plt.plot(ind, ind*weights[1]+weights[0],'r')\n",
    "plt.axis([0, 3, -100, 1500])"
   ]
  },
  {
   "cell_type": "markdown",
   "metadata": {},
   "source": [
    "<hr style=\"border:2px solid gray\"> </hr>"
   ]
  },
  {
   "cell_type": "markdown",
   "metadata": {},
   "source": [
    "## Task"
   ]
  },
  {
   "cell_type": "markdown",
   "metadata": {},
   "source": [
    "You may add as many cells as you require to complete this task."
   ]
  },
  {
   "cell_type": "code",
   "execution_count": 9,
   "metadata": {},
   "outputs": [],
   "source": [
    "#Defining some basic matrices to use throughout testing\n",
    "\n",
    "Matrix_A = [[3, 3, 3],\n",
    "            [2, 2, 2]]\n",
    "\n",
    "Matrix_B = [[5, 5, 2],\n",
    "            [4, 3, 5]]\n",
    "\n",
    "Matrix_C = [[2, 5],\n",
    "            [3, 7]]\n",
    "\n",
    "Matrix_D = [[1],\n",
    "            [3],\n",
    "            [6]]\n",
    "\n",
    "Matrix_E = [[6, 8],\n",
    "            [5, 3],\n",
    "            [9, 2]]\n",
    "\n",
    "Matrix_F = [[3, 5, 3],\n",
    "            [2, 8, 4],\n",
    "            [4, 2, 1]]"
   ]
  },
  {
   "cell_type": "code",
   "execution_count": 11,
   "metadata": {},
   "outputs": [
    {
     "data": {
      "text/plain": [
       "[2, 3]"
      ]
     },
     "execution_count": 11,
     "metadata": {},
     "output_type": "execute_result"
    }
   ],
   "source": [
    "# Going to make a stand alone function for determining the dimensions of matrices so we don't have to do it every time with other functions.\n",
    "\n",
    "def dimension(matrix):\n",
    "    dimension = [] #Storing the dimension as a list so its easier to work with\n",
    "    dimension.append(len(matrix)) # The length of the matrix is the number of rows \n",
    "    dimension.append(len(matrix[0])) # The length of the inner list terms (e.g. 3, 3, 3 for matrix A) is the number of columns\n",
    "    return dimension\n",
    "dimension(Matrix_A)\n",
    "\n",
    "# An output of [2, 3] represents a 2x3 matrix"
   ]
  },
  {
   "cell_type": "code",
   "execution_count": 13,
   "metadata": {},
   "outputs": [
    {
     "data": {
      "text/plain": [
       "[[8, 8, 5], [6, 5, 7]]"
      ]
     },
     "execution_count": 13,
     "metadata": {},
     "output_type": "execute_result"
    }
   ],
   "source": [
    "# Summing two matrices, getting familiar with the rules of matrix rules\n",
    "\n",
    "def sum_matrix(matrix_one, matrix_two):\n",
    "    result_matrix = []\n",
    "    #First need to check that the two matrices are compatible, since the dimension will always be just two digits we can just hardcode it\n",
    "    if dimension(matrix_one)[0] == dimension(matrix_two)[0] and dimension(matrix_one)[1] == dimension(matrix_two)[1]:\n",
    "        for i in range(0, len(matrix_one)): # We need to first go over the rows\n",
    "            x = [] # the rows added to the output\n",
    "            for j in range(0, len(matrix_one[0])):\n",
    "                x.append(matrix_one[i][j] + matrix_two[i][j]) #we add in the row[i] and column[j] for each element in the list to our temp x storage\n",
    "            result_matrix.append(x) # Adding to the result matrix\n",
    "        return result_matrix\n",
    "    else:\n",
    "        print(\"The two matrixes are not of the same dimension and therefore cannot be summed.\")\n",
    "        return None\n",
    "        \n",
    "sum_matrix(Matrix_A, Matrix_B)"
   ]
  },
  {
   "cell_type": "code",
   "execution_count": 15,
   "metadata": {},
   "outputs": [
    {
     "data": {
      "text/plain": [
       "[[60, 39], [40, 26]]"
      ]
     },
     "execution_count": 15,
     "metadata": {},
     "output_type": "execute_result"
    }
   ],
   "source": [
    "# Multiplying two matrices \n",
    "\n",
    "def multiply_matrix(matrix_one, matrix_two):\n",
    "    result_matrix = [] # Define the output matrix\n",
    "    if dimension(matrix_one)[1] == dimension(matrix_two)[0]: # For multiplication, # of columns of matrix_one has to equal # of rows of matrix_two\n",
    "        for i in range(0, len(matrix_one)):\n",
    "            x = [] # Temp list to store multiplication values\n",
    "            for j in range(0, len(matrix_two[0])): #again looping through the number of rows of matrix two\n",
    "                product = 0 # now we have to define a stored value, which I learned from looking at Henry's code as I was stuck here. \n",
    "                for k in range(0, len(matrix_two)): # Again, Henry's code gave me the inspiration to add another loop here as I was stuck.\n",
    "                    product = product + matrix_one[i][k] * matrix_two[k][j] # Calculating the product for each value in i, k and k, j\n",
    "                x.append(product) # Adding our temp values to X and then running the loop again through the previous loop \n",
    "            result_matrix.append(x) # Adding our result to the result matrix\n",
    "        return result_matrix\n",
    "    else:\n",
    "        return \"ERROR: The two matrices are not compatible for multiplication\"\n",
    "\n",
    "multiply_matrix(Matrix_A, Matrix_E)"
   ]
  },
  {
   "cell_type": "code",
   "execution_count": 17,
   "metadata": {},
   "outputs": [
    {
     "name": "stdout",
     "output_type": "stream",
     "text": [
      "The inverse of the matrix [[2, 5], [3, 7]] is: [[-7.0, 5.0], [3.0, -2.0]]\n"
     ]
    }
   ],
   "source": [
    "# Finding the inverse of a 2x2 matrix\n",
    "# for matrix [[a, b], [c, d]] its just 1/ad-bc[[d, -b], [-c, a]]\n",
    "# Using matrix C as the test\n",
    "\n",
    "def inverse_matrix(matrix):\n",
    "    if dimension(matrix)[0] == 2 and dimension(matrix)[1] == 2:\n",
    "        result_matrix = [[],[]]\n",
    "        a = matrix[0][0]\n",
    "        b = matrix[0][1]\n",
    "        c = matrix[1][0]\n",
    "        d = matrix[1][1]\n",
    "        val = 1/((a*d) - (b*c)) # 1/determinant of the 2x2 matrix\n",
    "        result_matrix[0].insert(0, val*d)\n",
    "        result_matrix[0].insert(1, val*(-1*b))\n",
    "        result_matrix[1].insert(0, val*(-1*c))\n",
    "        result_matrix[1].insert(1, val*a)\n",
    "        return result_matrix\n",
    "    else:\n",
    "        return \"ERROR: NOT A 2x2 MATRIX INPUT\"\n",
    "\n",
    "print(\"The inverse of the matrix \" + str(Matrix_C) + \" is: \" + str(inverse_matrix(Matrix_C)))"
   ]
  },
  {
   "cell_type": "code",
   "execution_count": 19,
   "metadata": {},
   "outputs": [
    {
     "data": {
      "text/plain": [
       "[[3, 2], [3, 2], [3, 2]]"
      ]
     },
     "execution_count": 19,
     "metadata": {},
     "output_type": "execute_result"
    }
   ],
   "source": [
    "# Transposing a matrix\n",
    "\n",
    "def transpose_matrix(matrix):\n",
    "    result_matrix = []\n",
    "    for j in range(0, len(matrix[0])): # Since we are transposing we are looping over the columns first, since these become our new row values\n",
    "        row = [] # defining a storage list for the following loop\n",
    "        for i in range(0, len(matrix)): # Now we loop over the rows, which then become the columns\n",
    "            row.append(matrix[i][j])\n",
    "        result_matrix.append(row) # Adding all the above to the result matrix, and then repeating for the number of columns\n",
    "    return result_matrix # Return the result matrix which is our transposed matrix \n",
    "\n",
    "transpose_matrix(Matrix_A)\n",
    "\n",
    "# The input (Matrix_A) was 2x3, the output is 3x2 as expected (3 rows, 2 columns)        "
   ]
  },
  {
   "cell_type": "code",
   "execution_count": 21,
   "metadata": {},
   "outputs": [
    {
     "data": {
      "text/plain": [
       "[[-99.46431881371245], [564.2038924930494]]"
      ]
     },
     "execution_count": 21,
     "metadata": {},
     "output_type": "execute_result"
    }
   ],
   "source": [
    "# Part 2: Use these matrix manipulation functions in a new function that takes the data (X) and outputs (y) and returns the least squares \n",
    "# estimate of the linear regression weight vector. Call this function 'fit'.\n",
    "\n",
    "\n",
    "def fit(file):\n",
    "    coefficients = [[]] # Loading empty one in case we change data sets \n",
    "    data = np.loadtxt(file, delimiter=',') # Using the np from the above case and loading x, y that way\n",
    "    x = data[:,0:2]\n",
    "    y = [[data[i,2]] for i in range(0,len(data[:,2]))]\n",
    "    # now finding the coefficients by looking at the formula (X^T * X)^-1 * X^T * Y\n",
    "    coefficients = multiply_matrix(inverse_matrix(multiply_matrix(transpose_matrix(x), x)), multiply_matrix(transpose_matrix(x), y))\n",
    "    return coefficients\n",
    "\n",
    "fit('lr_data.csv')"
   ]
  },
  {
   "cell_type": "code",
   "execution_count": 37,
   "metadata": {},
   "outputs": [
    {
     "data": {
      "image/png": "[encoded data removed]",
      "text/plain": [
       "<Figure size 640x480 with 1 Axes>"
      ]
     },
     "metadata": {},
     "output_type": "display_data"
    }
   ],
   "source": [
    "# Create second function that uses the weights found by the fit method and a number of data points X to create new predictions. Call this function\n",
    "# Predict. First I am going to verify my method works to re-create the original file (as given above in the example).\n",
    "\n",
    "def predict_test(file):\n",
    "    coefficients = fit(file)\n",
    "    data = np.loadtxt(file, delimiter=',') # Using the np from the above case and loading x, y that way\n",
    "    x = data[:,0:2]\n",
    "    y= [[data[i,2]] for i in range(0,len(data[:,2]))]\n",
    "    ind = np.arange(0,2.8,0.1) # Using the code from the above example essentially to re-create using my own weights found by my previous code. \n",
    "    plt.plot(x[:,1],y,'.')\n",
    "    plt.plot(ind, ind*coefficients[1]+coefficients[0],'r')\n",
    "    plt.axis([0, 3, -100, 1500])\n",
    "\n",
    "predict_test('lr_data.csv')\n",
    "\n",
    "# Which looks good to me. \n",
    "    "
   ]
  },
  {
   "cell_type": "code",
   "execution_count": 111,
   "metadata": {},
   "outputs": [
    {
     "data": {
      "image/png": "[encoded data removed]",
      "text/plain": [
       "<Figure size 640x480 with 1 Axes>"
      ]
     },
     "metadata": {},
     "output_type": "display_data"
    }
   ],
   "source": [
    "# Now we can use a test data sample which I've uploaded to Github containing different values for X, and this should just be\n",
    "# y = mx + b to get the predictions. My new data is called \"lr_data_predict.csv\"\n",
    "\n",
    "def predict(file):\n",
    "    data = []\n",
    "    y = []\n",
    "    coefficients = [[-99.46431881371245], [564.2038924930494]]\n",
    "    data = (np.loadtxt(file, delimiter=',')).tolist() # Using the np from the above case and loading x, y that way\n",
    "    for i in range(0, len(data)):\n",
    "        result = coefficients[1][0]*data[i] + coefficients[0][0]\n",
    "        y.append(result)\n",
    "    plt.plot(data, y, marker='o', linestyle='--', color='r')\n",
    "\n",
    "predict('lr_data_predict.csv')"
   ]
  },
  {
   "cell_type": "markdown",
   "metadata": {},
   "source": [
    "<hr style=\"border:2px solid gray\"> </hr>"
   ]
  },
  {
   "cell_type": "markdown",
   "metadata": {},
   "source": [
    "## Reflection"
   ]
  },
  {
   "cell_type": "markdown",
   "metadata": {},
   "source": [
    "Write your reflection in below cell."
   ]
  },
  {
   "cell_type": "code",
   "execution_count": null,
   "metadata": {},
   "outputs": [],
   "source": [
    "\"\"\"\n",
    "I was surprised with how difficult parts of this assignment were - specifically, multiplying the matrices. I had to really dive into the \n",
    "loops which is an area that I am not super confident on, but after doing some peer learning and YouTube tutorials I managed it. I think that \n",
    "the lack of user inputs and correct error handling are concerning, and additionally I would probably add more test cases in the future (e.g. \n",
    "have matrices that are randomly generated dimensions/values to be used for test cases and then future validation by hand). I found that the predict \n",
    "function was easier than expected (if I understood the assignment correctly), but it was nice to be able to recreate the sample graph provided and \n",
    "I'm happy with that. \n",
    "\n",
    "I used a lot of reference to Henry's code for the loops, as it was something I was heavily struggling on. I additionally looked at StackOverflow \n",
    "and YouTube for tutorials on basic matrix operations. \n",
    "\"\"\""
   ]
  }
 ],
 "metadata": {
  "kernelspec": {
   "display_name": "Python 3 (ipykernel)",
   "language": "python",
   "name": "python3"
  },
  "language_info": {
   "codemirror_mode": {
    "name": "ipython",
    "version": 3
   },
   "file_extension": ".py",
   "mimetype": "text/x-python",
   "name": "python",
   "nbconvert_exporter": "python",
   "pygments_lexer": "ipython3",
   "version": "3.12.4"
  }
 },
 "nbformat": 4,
 "nbformat_minor": 4
}
